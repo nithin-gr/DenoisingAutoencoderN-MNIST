{
  "nbformat": 4,
  "nbformat_minor": 0,
  "metadata": {
    "accelerator": "GPU",
    "colab": {
      "name": "AutoEncoderMNIST.ipynb",
      "provenance": [],
      "collapsed_sections": [],
      "toc_visible": true
    },
    "kernelspec": {
      "display_name": "Python 3",
      "name": "python3"
    },
    "language_info": {
      "name": "python"
    }
  },
  "cells": [
    {
      "cell_type": "code",
      "metadata": {
        "colab": {
          "base_uri": "https://localhost:8080/"
        },
        "id": "m2LU-6ViDEgC",
        "outputId": "7092a63d-7fdc-47cd-eafb-3f4d16522b74"
      },
      "source": [
        "from google.colab import drive\n",
        "drive.mount('/content/drive/')"
      ],
      "execution_count": null,
      "outputs": [
        {
          "output_type": "stream",
          "text": [
            "Mounted at /content/drive/\n"
          ],
          "name": "stdout"
        }
      ]
    },
    {
      "cell_type": "code",
      "metadata": {
        "colab": {
          "base_uri": "https://localhost:8080/"
        },
        "id": "XMNRB32NLzVF",
        "outputId": "8cf0c331-75d7-4b84-8a44-486d2cad3f5c"
      },
      "source": [
        "!pip install idx2numpy acoustics"
      ],
      "execution_count": null,
      "outputs": [
        {
          "output_type": "stream",
          "text": [
            "Collecting idx2numpy\n",
            "  Downloading https://files.pythonhosted.org/packages/7e/6b/80628f6cc2f44d80b27f1ef7b57b257ed4c73766113b77d13ad110c091b4/idx2numpy-1.2.3.tar.gz\n",
            "Collecting acoustics\n",
            "\u001b[?25l  Downloading https://files.pythonhosted.org/packages/6f/8f/0738c42706c8cd10b077e3116d1d1b41e61b1daf2596cba847368274c862/acoustics-0.2.4.post0.tar.gz (851kB)\n",
            "\u001b[K     |████████████████████████████████| 860kB 16.0MB/s \n",
            "\u001b[?25hRequirement already satisfied: numpy in /usr/local/lib/python3.7/dist-packages (from idx2numpy) (1.19.5)\n",
            "Requirement already satisfied: six in /usr/local/lib/python3.7/dist-packages (from idx2numpy) (1.15.0)\n",
            "Requirement already satisfied: scipy>=0.16 in /usr/local/lib/python3.7/dist-packages (from acoustics) (1.4.1)\n",
            "Requirement already satisfied: matplotlib in /usr/local/lib/python3.7/dist-packages (from acoustics) (3.2.2)\n",
            "Requirement already satisfied: pandas>=0.15 in /usr/local/lib/python3.7/dist-packages (from acoustics) (1.1.5)\n",
            "Requirement already satisfied: tabulate in /usr/local/lib/python3.7/dist-packages (from acoustics) (0.8.9)\n",
            "Requirement already satisfied: kiwisolver>=1.0.1 in /usr/local/lib/python3.7/dist-packages (from matplotlib->acoustics) (1.3.1)\n",
            "Requirement already satisfied: pyparsing!=2.0.4,!=2.1.2,!=2.1.6,>=2.0.1 in /usr/local/lib/python3.7/dist-packages (from matplotlib->acoustics) (2.4.7)\n",
            "Requirement already satisfied: cycler>=0.10 in /usr/local/lib/python3.7/dist-packages (from matplotlib->acoustics) (0.10.0)\n",
            "Requirement already satisfied: python-dateutil>=2.1 in /usr/local/lib/python3.7/dist-packages (from matplotlib->acoustics) (2.8.1)\n",
            "Requirement already satisfied: pytz>=2017.2 in /usr/local/lib/python3.7/dist-packages (from pandas>=0.15->acoustics) (2018.9)\n",
            "Building wheels for collected packages: idx2numpy, acoustics\n",
            "  Building wheel for idx2numpy (setup.py) ... \u001b[?25l\u001b[?25hdone\n",
            "  Created wheel for idx2numpy: filename=idx2numpy-1.2.3-cp37-none-any.whl size=7907 sha256=9091bab1aa6fa32ddc3bdd557466f06b0f04a46d6159e6c955f0795b9e21c964\n",
            "  Stored in directory: /root/.cache/pip/wheels/7a/c1/da/284ce80a748fab898b8d1fa95468a386e7cf3b81da18511f9d\n",
            "  Building wheel for acoustics (setup.py) ... \u001b[?25l\u001b[?25hdone\n",
            "  Created wheel for acoustics: filename=acoustics-0.2.4.post0-cp37-none-any.whl size=68741 sha256=ff560c7b1710addc4ef37deae9c8af2159cfd724cba38936f0804902f68cc407\n",
            "  Stored in directory: /root/.cache/pip/wheels/b6/15/f8/dcf1503edc7c990e0b0d309bf8ca5efa14f1daed5eef9ba2f9\n",
            "Successfully built idx2numpy acoustics\n",
            "Installing collected packages: idx2numpy, acoustics\n",
            "Successfully installed acoustics-0.2.4.post0 idx2numpy-1.2.3\n"
          ],
          "name": "stdout"
        }
      ]
    },
    {
      "cell_type": "code",
      "metadata": {
        "id": "C_AiGYXWJT7E"
      },
      "source": [
        "import numpy as np\n",
        "import idx2numpy\n",
        "import pandas as pd \n",
        "import cv2\n",
        "import gzip\n",
        "import os\n",
        "import gc\n",
        "from tqdm import tqdm\n",
        "import torch\n",
        "import torch.nn as nn\n",
        "from torch.utils.data import DataLoader, Dataset\n",
        "import torch.nn.functional as F\n",
        "import scipy.io\n",
        "import matplotlib.pyplot as plt\n",
        "import acoustics\n",
        "import datetime"
      ],
      "execution_count": null,
      "outputs": []
    },
    {
      "cell_type": "markdown",
      "metadata": {
        "id": "v2snE9lCSPTF"
      },
      "source": [
        "# Clean Dataset"
      ]
    },
    {
      "cell_type": "code",
      "metadata": {
        "id": "lddkQBEkDcef"
      },
      "source": [
        "directorypathtrain = \"/content/drive/MyDrive/MNIST/Clean/train-images.idx3-ubyte\"  #pathtotrainingimages\n",
        "directorypathtest = \"/content/drive/MyDrive/MNIST/Clean/t10k-images.idx3-ubyte\" #pathtotestingimages"
      ],
      "execution_count": null,
      "outputs": []
    },
    {
      "cell_type": "code",
      "metadata": {
        "id": "J85G9vDsLuaZ"
      },
      "source": [
        "def get_images(directorypath):\n",
        "    imagearray = idx2numpy.convert_from_file(directorypath)\n",
        "    return imagearray"
      ],
      "execution_count": null,
      "outputs": []
    },
    {
      "cell_type": "code",
      "metadata": {
        "id": "IFFc_Ds6JJMH",
        "colab": {
          "base_uri": "https://localhost:8080/"
        },
        "outputId": "95056ed2-64f6-495e-b508-753446376865"
      },
      "source": [
        "trainimages = get_images(directorypathtrain)\n",
        "print(trainimages.shape)"
      ],
      "execution_count": null,
      "outputs": [
        {
          "output_type": "stream",
          "text": [
            "(60000, 28, 28)\n"
          ],
          "name": "stdout"
        }
      ]
    },
    {
      "cell_type": "code",
      "metadata": {
        "id": "6h9ebD_i1X51",
        "colab": {
          "base_uri": "https://localhost:8080/"
        },
        "outputId": "63b3e778-faf5-4d14-9ff3-9223f7071d9e"
      },
      "source": [
        "testimages = get_images(directorypathtest)\n",
        "print(testimages.shape)"
      ],
      "execution_count": null,
      "outputs": [
        {
          "output_type": "stream",
          "text": [
            "(10000, 28, 28)\n"
          ],
          "name": "stdout"
        }
      ]
    },
    {
      "cell_type": "markdown",
      "metadata": {
        "id": "_Qe-T_T9spb2"
      },
      "source": [
        "#Adding Noise Manually"
      ]
    },
    {
      "cell_type": "markdown",
      "metadata": {
        "id": "NHYSSQTZstqU"
      },
      "source": [
        "###Motion Blur"
      ]
    },
    {
      "cell_type": "code",
      "metadata": {
        "id": "nwBRPU10ssAF"
      },
      "source": [
        "#motion blur\n",
        "def motion_blur_kernel(image, degree=5, angle=15):\n",
        "    # image = np.array(image)\n",
        "\n",
        "    # This generates a matrix of motion blur kernels at any angle. The greater the degree, the higher the blur.\n",
        "    M = cv2.getRotationMatrix2D((degree / 2, degree / 2), angle, 1)\n",
        "    motion_blur_kernel = np.diag(np.ones(degree))\n",
        "    motion_blur_kernel = cv2.warpAffine(motion_blur_kernel, M, (degree, degree))\n",
        "\n",
        "    motion_blur_kernel = motion_blur_kernel / degree\n",
        "    blurred = cv2.filter2D(image, -1, motion_blur_kernel)\n",
        "\n",
        "    # convert to uint8\n",
        "    cv2.normalize(blurred, blurred, 0, 255, cv2.NORM_MINMAX)\n",
        "    blurred = np.array(blurred, dtype=np.uint8)\n",
        "    \n",
        "    return blurred"
      ],
      "execution_count": null,
      "outputs": []
    },
    {
      "cell_type": "markdown",
      "metadata": {
        "id": "R9LhKpUwsvqn"
      },
      "source": [
        "###AWGN"
      ]
    },
    {
      "cell_type": "markdown",
      "metadata": {
        "id": "CQ83vta_ByYi"
      },
      "source": [
        ""
      ]
    },
    {
      "cell_type": "code",
      "metadata": {
        "id": "MtAowC9ts0e8"
      },
      "source": [
        "def add_awgn_noise(image, snr=9.5):\n",
        "    # Generate the noise as you did\n",
        "    noise = acoustics.generator.white(image.size).reshape(*image.shape)\n",
        "    # For the record I think np.random.random does exactly the same thing\n",
        "\n",
        "    # work out the current SNR\n",
        "    current_snr = np.mean(image) / np.std(noise)\n",
        "\n",
        "    # scale the noise by the snr ratios (smaller noise <=> larger snr)\n",
        "    noise *= (current_snr / snr)\n",
        "\n",
        "    # return the new signal with noise\n",
        "    return image + noise"
      ],
      "execution_count": null,
      "outputs": []
    },
    {
      "cell_type": "markdown",
      "metadata": {
        "id": "Xhrdzz79s0rS"
      },
      "source": [
        "###Reduced Contrast"
      ]
    },
    {
      "cell_type": "code",
      "metadata": {
        "id": "MQEQe6sdtRg8"
      },
      "source": [
        "def reduce_contrast(image, awgnsnr=12, factor=0.5):\n",
        "  image = image*factor\n",
        "  image = add_awgn_noise(image, 12)\n",
        "  return image"
      ],
      "execution_count": null,
      "outputs": []
    },
    {
      "cell_type": "markdown",
      "metadata": {
        "id": "rQSYyFu0zGBm"
      },
      "source": [
        "##Creating Separate Datasets for Each Type of Noise"
      ]
    },
    {
      "cell_type": "code",
      "metadata": {
        "id": "LhcdGgCoy8KM"
      },
      "source": [
        "def datasetformation(image_array, SNR=12, angle=15, degree=5, factor=0.5, training=True):\n",
        "  \n",
        "  iter = 0\n",
        "  if training:\n",
        "    iter = 60000\n",
        "  else:\n",
        "    iter = 10000\n",
        "\n",
        "  awgn_data = np.zeros((iter,28,28))\n",
        "  motion_blur_data = np.zeros((iter,28,28))\n",
        "  reduced_contrast_data = np.zeros((iter,28,28))\n",
        "\n",
        "  for num in tqdm(range(iter)):\n",
        "    image = image_array[num]\n",
        "    awgn_image = add_awgn_noise(image, snr=9.5)\n",
        "    motion_blur_image = motion_blur_kernel(image, degree=5, angle=15)\n",
        "    reduced_contrast_image = reduce_contrast(image, awgnsnr=12, factor=0.5)\n",
        "    awgn_data[num] = awgn_image\n",
        "    motion_blur_data[num] = motion_blur_image\n",
        "    reduced_contrast_data[num] = reduced_contrast_image\n",
        "  \n",
        "  if training:\n",
        "    np.save(\"/content/drive/MyDrive/MNIST/Clean/awgn_train.npy\", awgn_data)\n",
        "    np.save(\"/content/drive/MyDrive/MNIST/Clean/motion_blur_train.npy\", motion_blur_data)\n",
        "    np.save(\"/content/drive/MyDrive/MNIST/Clean/reduced_contrast_train.npy\", reduced_contrast_data)\n",
        "\n",
        "  else:\n",
        "    np.save(\"/content/drive/MyDrive/MNIST/Clean/awgn_test.npy\", awgn_data)\n",
        "    np.save(\"/content/drive/MyDrive/MNIST/Clean/motion_blur_test.npy\", motion_blur_data)\n",
        "    np.save(\"/content/drive/MyDrive/MNIST/Clean/reduced_contrast_test.npy\", reduced_contrast_data)"
      ],
      "execution_count": null,
      "outputs": []
    },
    {
      "cell_type": "code",
      "metadata": {
        "id": "XeljoGpW4mvg"
      },
      "source": [
        "datasetformation(trainimages, training=True)\n",
        "datasetformation(testimages, training=False)"
      ],
      "execution_count": null,
      "outputs": []
    },
    {
      "cell_type": "code",
      "metadata": {
        "id": "184QJlyM7965"
      },
      "source": [
        "#form the vectorized inputs and save\n",
        "awgnpath = \"/content/drive/MyDrive/MNIST/Clean/awgn_test.npy\"\n",
        "motionblurpath = \"/content/drive/MyDrive/MNIST/Clean/motion_blur_test.npy\"\n",
        "reducedcontrastpath = \"/content/drive/MyDrive/MNIST/Clean/reduced_contrast_test.npy\"\n",
        "groundtruthpath = \"/content/drive/MyDrive/MNIST/Clean/t10k-images.idx3-ubyte\"\n",
        "groundtruthimages = idx2numpy.convert_from_file(groundtruthpath)\n",
        "awgnimages = np.load(awgnpath)\n",
        "motionblurimages = np.load(motionblurpath)\n",
        "reducedcontrastimages = np.load(reducedcontrastpath)\n",
        "\n",
        "gdvector = np.zeros((10000,784))\n",
        "awgnvector = np.zeros((10000,784))\n",
        "mbvector = np.zeros((10000,784))\n",
        "rcvector = np.zeros((10000,784))\n",
        "\n",
        "for i in range(10000):\n",
        "  awgnsingle = np.reshape(awgnimages[i, : ,:], (784))\n",
        "  awgnvector[i] = awgnsingle\n",
        "  mbsingle = np.reshape(motionblurimages[i, : ,:], (784))\n",
        "  mbvector[i] = mbsingle\n",
        "  rcsingle = np.reshape(reducedcontrastimages[i, : ,:], (784))\n",
        "  rcvector[i] = rcsingle\n",
        "  gdsingle = np.reshape(groundtruthimages[i, : ,:], (784))\n",
        "  gdvector[i] = gdsingle\n",
        "\n",
        "  assert gdvector.shape == (10000, 784)\n",
        "\n",
        "np.save(\"/content/drive/MyDrive/MNIST/Clean/awgn_test_vectorized.npy\", awgnvector)\n",
        "np.save(\"/content/drive/MyDrive/MNIST/Clean/motion_blur_test_vectorized.npy\", mbvector)\n",
        "np.save(\"/content/drive/MyDrive/MNIST/Clean/reduced_contrast_test_vectorized.npy\", rcvector)\n",
        "idx2numpy.convert_to_file(\"/content/drive/MyDrive/MNIST/Clean/t10k-images_vectorized.idx3-ubyte\", gdvector)"
      ],
      "execution_count": null,
      "outputs": []
    },
    {
      "cell_type": "markdown",
      "metadata": {
        "id": "Du95Diz7PLMP"
      },
      "source": [
        "# Noisy Dataset"
      ]
    },
    {
      "cell_type": "code",
      "metadata": {
        "id": "7JNqAEgUN_ww"
      },
      "source": [
        "# awgn_path = \"/content/drive/MyDrive/MNIST/Noise/AWGN/mnist-with-awgn.mat\"\n",
        "# motionblur_path = \"/content/drive/MyDrive/MNIST/Noise/MotionBlur/mnist-with-motion-blur.mat\"\n",
        "# reduced_path = \"/content/drive/MyDrive/MNIST/Noise/ReducedContrast/mnist-with-reduced-contrast-and-awgn.mat\"\n",
        "# awgnmat = scipy.io.loadmat('/content/drive/MyDrive/MNIST/Noise/AWGN/mnist-with-awgn.mat')\n",
        "# trainimage = (awgnmat['train_x'][1])\n",
        "# print(trainimage.shape)\n",
        "# trainimage = np.reshape(trainimage, (28, 28))\n",
        "# print(trainimage.shape)"
      ],
      "execution_count": null,
      "outputs": []
    },
    {
      "cell_type": "markdown",
      "metadata": {
        "id": "HoMw9leD82ih"
      },
      "source": [
        "#Dataset Class"
      ]
    },
    {
      "cell_type": "code",
      "metadata": {
        "id": "iU_N2cMd80rL"
      },
      "source": [
        "class NoisyMNISTDataset(Dataset):\n",
        "  def __init__(self, noisetype, noisedir, rootdir, vectorized = False):\n",
        "    self.noisetype = noisetype\n",
        "    self.noisedir = noisedir\n",
        "    self.groundtruthpath = rootdir\n",
        "    self.vectorized = vectorized\n",
        "  \n",
        "  def __len__(self):\n",
        "    return idx2numpy.convert_from_file(self.groundtruthpath).shape[0]   #examples in training set\n",
        "\n",
        "  def __getitem__(self,idx):\n",
        "    \n",
        "    groundtruthimage = idx2numpy.convert_from_file(self.groundtruthpath)[idx]\n",
        "    noiseinputimage = np.load(self.noisedir)[idx]\n",
        "\n",
        "    if self.vectorized:\n",
        "      groundtruthvector = np.reshape(groundtruthimage, (groundtruthimage.shape[0]*groundtruthimage.shape[1],))\n",
        "      noiseinputvector = np.reshape(noiseinputimage, (noiseinputimage.shape[0]*noiseinputimage.shape[1],))\n",
        "\n",
        "      del groundtruthimage, noiseinputimage\n",
        "\n",
        "      assert groundtruthvector.shape == (784,)\n",
        "      assert noiseinputvector.shape == (784,)\n",
        "      \n",
        "      return (noiseinputvector, groundtruthvector)\n",
        "\n",
        "    else:\n",
        "      assert groundtruthimage.shape == (28,28)\n",
        "      assert noiseinputimage.shape == (28,28)\n",
        "\n",
        "      return (noiseinputarray, groundtrutharray)"
      ],
      "execution_count": null,
      "outputs": []
    },
    {
      "cell_type": "markdown",
      "metadata": {
        "id": "3BXIx8Zp88D3"
      },
      "source": [
        "#Dataloader"
      ]
    },
    {
      "cell_type": "markdown",
      "metadata": {
        "id": "d3_3Xo6zb-N8"
      },
      "source": [
        "###Training Dataloader\n"
      ]
    },
    {
      "cell_type": "markdown",
      "metadata": {
        "id": "JirlJp1JeEjI"
      },
      "source": [
        "####Vectorized"
      ]
    },
    {
      "cell_type": "code",
      "metadata": {
        "id": "H4t_HYsabat5"
      },
      "source": [
        "awgntrain = NoisyMNISTDataset('awgn', noisedir=\"/content/drive/MyDrive/MNIST/Clean/awgn_train.npy\", \n",
        "                              rootdir=\"/content/drive/MyDrive/MNIST/Clean/train-images.idx3-ubyte\", vectorized=True)\n",
        "\n",
        "motionblurtrain = NoisyMNISTDataset('motionblur', noisedir=\"/content/drive/MyDrive/MNIST/Clean/motion_blur_train.npy\", \n",
        "                              rootdir=\"/content/drive/MyDrive/MNIST/Clean/train-images.idx3-ubyte\", vectorized=True)\n",
        "\n",
        "reducedcontrasttrain = NoisyMNISTDataset('reducedcontrast', noisedir=\"/content/drive/MyDrive/MNIST/Clean/reduced_contast_train.npy\", \n",
        "                              rootdir=\"/content/drive/MyDrive/MNIST/Clean/train-images.idx3-ubyte\", vectorized=True)"
      ],
      "execution_count": null,
      "outputs": []
    },
    {
      "cell_type": "code",
      "metadata": {
        "id": "to_zQC7nedB_"
      },
      "source": [
        "# params = {\"batch_size\":batch_size, \n",
        "#           \"shuffle\":True, \n",
        "#           \"num_workers\":0}"
      ],
      "execution_count": null,
      "outputs": []
    },
    {
      "cell_type": "code",
      "metadata": {
        "id": "zG6ZUkp7ehdL"
      },
      "source": [
        "# awgntrainloader = DataLoader(awgntrain, **params)\n",
        "# # motionblurtrainloader = DataLoader(motionblurtrain, **params)\n",
        "# # reducedcontrasttrainloader = DataLoader(reducedcontrasttrain, **params)"
      ],
      "execution_count": null,
      "outputs": []
    },
    {
      "cell_type": "markdown",
      "metadata": {
        "id": "5BPP6uqxTYE_"
      },
      "source": [
        "# Vectorized Model"
      ]
    },
    {
      "cell_type": "code",
      "metadata": {
        "id": "DO7_h3-BowAD"
      },
      "source": [
        "class VectorizedDenoisingAutoencoder(nn.Module):\n",
        "    def __init__(self):\n",
        "        super(VectorizedDenoisingAutoencoder, self).__init__()\n",
        "\n",
        "        #Encoder\n",
        "        self.enc1 = nn.Linear(in_features=784, out_features=676)\n",
        "        self.enc2 = nn.Linear(in_features=676, out_features=576) \n",
        "        self.enc3 = nn.Linear(in_features=576, out_features=512)\n",
        "        self.enc4 = nn.Linear(in_features=512, out_features=400)\n",
        "        self.enc5 = nn.Linear(in_features=400, out_features=256)\n",
        "        self.enc6 = nn.Linear(in_features=256, out_features=128)\n",
        "        self.enc7 = nn.Linear(in_features=128, out_features=64)\n",
        "        self.enc8 = nn.Linear(in_features=64, out_features=32)\n",
        "\n",
        "        #Decoder \n",
        "        self.dec1 = nn.Linear(in_features=32, out_features=64)\n",
        "        self.dec2 = nn.Linear(in_features=64, out_features=128)\n",
        "        self.dec3 = nn.Linear(in_features=128, out_features=256)\n",
        "        self.dec4 = nn.Linear(in_features=256, out_features=400)\n",
        "        self.dec5 = nn.Linear(in_features=400, out_features=512)\n",
        "        self.dec6 = nn.Linear(in_features=512, out_features=576)\n",
        "        self.dec7 = nn.Linear(in_features=576, out_features=676)\n",
        "        self.dec8 = nn.Linear(in_features=676, out_features=784) # Output image (28*28 = 784)\n",
        "\n",
        "    def forward(self, x):\n",
        "        x = F.relu(self.enc1(x))\n",
        "        x = F.relu(self.enc2(x))\n",
        "        x = F.relu(self.enc3(x))\n",
        "        x = F.relu(self.enc4(x))\n",
        "        x = F.relu(self.enc5(x))\n",
        "        x = F.relu(self.enc6(x))\n",
        "        x = F.relu(self.enc7(x))\n",
        "        x = F.relu(self.enc8(x))\n",
        "\n",
        "        x = F.relu(self.dec1(x))\n",
        "        x = F.relu(self.dec2(x))\n",
        "        x = F.relu(self.dec3(x))\n",
        "        x = F.relu(self.dec4(x))\n",
        "        x = F.relu(self.dec5(x))\n",
        "        x = F.relu(self.dec6(x))\n",
        "        x = F.relu(self.dec7(x))\n",
        "        x = F.relu(self.dec8(x))\n",
        "\n",
        "        return x"
      ],
      "execution_count": null,
      "outputs": []
    },
    {
      "cell_type": "markdown",
      "metadata": {
        "id": "DXrs9ALvABTe"
      },
      "source": [
        "##Vectorized Autoencoder - 2"
      ]
    },
    {
      "cell_type": "code",
      "metadata": {
        "id": "PRzNOPYrAAT_"
      },
      "source": [
        "class VectorizedDenoisingAutoencoderModified(nn.Module):\n",
        "    def __init__(self):\n",
        "        super(VectorizedDenoisingAutoencoderModified, self).__init__()\n",
        "\n",
        "        #Encoder\n",
        "        self.enc1 = nn.Linear(in_features=784, out_features=512)\n",
        "        self.enc2 = nn.Linear(in_features=512, out_features=256) \n",
        "        #Decoder \n",
        "        self.dec1 = nn.Linear(in_features=256, out_features=512)\n",
        "        self.dec2 = nn.Linear(in_features=512, out_features=784)\n",
        "    \n",
        "    def forward(self, x):\n",
        "        x = F.relu(self.enc1(x))\n",
        "        x = F.relu(self.enc2(x))\n",
        "\n",
        "        x = F.relu(self.dec1(x))\n",
        "        x = F.relu(self.dec2(x))\n",
        "\n",
        "        return x"
      ],
      "execution_count": null,
      "outputs": []
    },
    {
      "cell_type": "markdown",
      "metadata": {
        "id": "lAU4jJBVPcTE"
      },
      "source": [
        "#Vectorized Autoencoder - 3"
      ]
    },
    {
      "cell_type": "code",
      "metadata": {
        "id": "VHRVDwgnPiym"
      },
      "source": [
        "class VectorizedDenoisingAutoencoderThree(nn.Module):\n",
        "    def __init__(self):\n",
        "        super(VectorizedDenoisingAutoencoderThree, self).__init__()\n",
        "\n",
        "        #Encoder\n",
        "        self.enc1 = nn.Linear(in_features=784, out_features=512)\n",
        "        # self.enc2 = nn.Linear(in_features=512, out_features=256)\n",
        "        # self.enc3 = nn.Linear(in_features=256, out_features=128) \n",
        "\n",
        "        #Decoder \n",
        "        # self.dec1 = nn.Linear(in_features=128, out_features=256)\n",
        "        # self.dec2 = nn.Linear(in_features=256, out_features=512)\n",
        "        self.dec3 = nn.Linear(in_features=512, out_features=784)\n",
        "        # self.dec4 = nn.Linear(in_features=256, out_features=400)\n",
        "        # self.dec5 = nn.Linear(in_features=400, out_features=512)\n",
        "        # self.dec6 = nn.Linear(in_features=512, out_features=576)\n",
        "        # self.dec7 = nn.Linear(in_features=576, out_features=676)\n",
        "        # self.dec8 = nn.Linear(in_features=676, out_features=784) # Output image (28*28 = 784)\n",
        "\n",
        "    def forward(self, x):\n",
        "        x = F.relu(self.enc1(x))\n",
        "        # x = F.relu(self.enc2(x))\n",
        "        # x = F.relu(self.enc3(x))\n",
        "\n",
        "        # x = F.relu(self.dec1(x))\n",
        "        # x = F.relu(self.dec2(x))\n",
        "        x = F.relu(self.dec3(x))\n",
        "\n",
        "        return x"
      ],
      "execution_count": null,
      "outputs": []
    },
    {
      "cell_type": "markdown",
      "metadata": {
        "id": "8lE2Gnr7gmE8"
      },
      "source": [
        "####AWGN Model"
      ]
    },
    {
      "cell_type": "code",
      "metadata": {
        "id": "Rzi47eTme9BH"
      },
      "source": [
        "# awgnmodel = VectorizedDenoisingAutoencoderModified()"
      ],
      "execution_count": null,
      "outputs": []
    },
    {
      "cell_type": "markdown",
      "metadata": {
        "id": "VceMRfbGgxSx"
      },
      "source": [
        "####MotionBlur Model"
      ]
    },
    {
      "cell_type": "code",
      "metadata": {
        "id": "351ZlO_dgts_"
      },
      "source": [
        "# motionblurmodel = VectorizedDenoisingAutoencoderModified()"
      ],
      "execution_count": null,
      "outputs": []
    },
    {
      "cell_type": "markdown",
      "metadata": {
        "id": "vssFoikFg6F4"
      },
      "source": [
        "####ReducedContrastModel"
      ]
    },
    {
      "cell_type": "code",
      "metadata": {
        "id": "t6cfaeQMgp5S"
      },
      "source": [
        "reducedcontrastmodel = VectorizedDenoisingAutoencoderModified()"
      ],
      "execution_count": null,
      "outputs": []
    },
    {
      "cell_type": "markdown",
      "metadata": {
        "id": "J2RtrrSQhCLb"
      },
      "source": [
        "####Criterion, Optimizer and Configs"
      ]
    },
    {
      "cell_type": "code",
      "metadata": {
        "id": "3A4jbKm5guf9"
      },
      "source": [
        "criterion = nn.MSELoss()\n",
        "optimizer = torch.optim.Adam(reducedcontrastmodel.parameters(), lr=0.01, betas=(0.9, 0.999), eps=1e-08, weight_decay=0, amsgrad=False)\n",
        "\n",
        "num_epochs = 100\n",
        "dropout = 0.3"
      ],
      "execution_count": null,
      "outputs": []
    },
    {
      "cell_type": "code",
      "metadata": {
        "id": "0zVeFjJu50r2"
      },
      "source": [
        "awgnpath = \"/content/drive/MyDrive/MNIST/Clean/awgn_train_vectorized.npy\"\n",
        "motionblurpath = \"/content/drive/MyDrive/MNIST/Clean/motion_blur_train_vectorized.npy\"\n",
        "reducedcontrastpath = \"/content/drive/MyDrive/MNIST/Clean/reduced_contrast_train_vectorized.npy\"\n",
        "groundtruthpath = \"/content/drive/MyDrive/MNIST/Clean/train-images_vectorized.idx3-ubyte\""
      ],
      "execution_count": null,
      "outputs": []
    },
    {
      "cell_type": "code",
      "metadata": {
        "id": "0D3D260pOUc6"
      },
      "source": [
        "# awgnpathval = \"/content/drive/MyDrive/MNIST/Clean/awgn_test_vectorized.npy\"\n",
        "# mbpathval = \"/content/drive/MyDrive/MNIST/Clean/motion_blur_test_vectorized.npy\"\n",
        "# rcpathval = \"/content/drive/MyDrive/MNIST/Clean/reduced_contrast_test_vectorized.npy\"\n",
        "# gtpathval = \"/content/drive/MyDrive/MNIST/Clean/t10k-images_vectorized.idx3-ubyte\""
      ],
      "execution_count": null,
      "outputs": []
    },
    {
      "cell_type": "code",
      "metadata": {
        "id": "pHBTDCae6PiK"
      },
      "source": [
        "noiseinputpath = reducedcontrastpath"
      ],
      "execution_count": null,
      "outputs": []
    },
    {
      "cell_type": "code",
      "metadata": {
        "id": "6wnOnYGV_4zF"
      },
      "source": [
        "groundtruthvectors = idx2numpy.convert_from_file(groundtruthpath)\n",
        "noiseinputvectors = np.load(noiseinputpath)\n",
        "\n",
        "# groundtruthvectorsval = torch.from_numpy(idx2numpy.convert_from_file(gtpathval).astype(np.float32))\n",
        "# noiseinputvectorsval = torch.from_numpy(np.load(noiseinputpathval).astype(np.float32))"
      ],
      "execution_count": null,
      "outputs": []
    },
    {
      "cell_type": "code",
      "metadata": {
        "id": "dRPB0UL0RBYb"
      },
      "source": [
        "# print(noiseinputvectorsval[10].shape)"
      ],
      "execution_count": null,
      "outputs": []
    },
    {
      "cell_type": "code",
      "metadata": {
        "id": "v-Po_dgoebnj"
      },
      "source": [
        "batch_size = 64 #main control of batch size is here"
      ],
      "execution_count": null,
      "outputs": []
    },
    {
      "cell_type": "markdown",
      "metadata": {
        "id": "voqHgqcDrx90"
      },
      "source": [
        "#Training"
      ]
    },
    {
      "cell_type": "code",
      "metadata": {
        "colab": {
          "base_uri": "https://localhost:8080/",
          "height": 1000
        },
        "id": "SrU_ZoB3AHHT",
        "outputId": "98392fb2-ea0a-46a4-aea7-90192e570ef2"
      },
      "source": [
        "#training loop\n",
        "reducedcontrastmodel.train()\n",
        "\n",
        "for epoch in tqdm(range(num_epochs)):\n",
        "    cumulative_loss = 0.0\n",
        "    # epoch_loss = 0.0    \n",
        "    batchstart = 0\n",
        "    batchend = batchstart + batch_size\n",
        "    numbatches = 0\n",
        "    for b in range(int(60000/batch_size)+1):              #60000/64 = 938\n",
        "        groundtruth = torch.from_numpy(groundtruthvectors[batchstart:batchend, :].astype(np.float32))   #(32,784)\n",
        "        inputs = torch.from_numpy(noiseinputvectors[batchstart:batchend, :].astype(np.float32))\n",
        "\n",
        "        model_output = reducedcontrastmodel(inputs)\n",
        "        loss = criterion(model_output, groundtruth)\n",
        "        loss.backward()\n",
        "        optimizer.step()\n",
        "        cumulative_loss += loss.item()\n",
        "        if numbatches%300 == 0 and numbatches!=0:     \n",
        "            print (numbatches, end=' ')\n",
        "            print('Loss: ' , cumulative_loss)\n",
        "            print('-----------------------------------')\n",
        "            with open('/content/drive/MyDrive/MNIST/Models/reducedcontrastvectorizedmodifiedadam', 'at') as file :       \n",
        "                now = datetime.datetime.now()\n",
        "                current_time = now.strftime(\"%H:%M:%S\")\n",
        "                file.write(\"Epoch: {}, Batch: {}, Loss: {}, Time: {}\\n\".format(epoch, loss.item(), cumulative_loss, current_time))    \n",
        "        numbatches += 1\n",
        "        batchstart = batchend\n",
        "        batchend = batchstart + batch_size\n",
        "        # gc.collect()\n",
        "\n",
        "    print(\"Epoch Loss: \", cumulative_loss/60000)\n",
        "\n",
        "    # val_output = awgnmodel(noiseinputvectorsval[10].unsqueeze(0))\n",
        "    # val_output = val_output.detach().numpy()\n",
        "\n",
        "    # my_dpi = 40\n",
        "    # fig = plt.figure(figsize=(28, 28), dpi=my_dpi)\n",
        "\n",
        "    # ax1 = fig.add_subplot(1, 2, 1)\n",
        "    # ax1.imshow(np.reshape(noiseinputvectorsval[10], (28,28)), cmap='gray')\n",
        "\n",
        "    # ax2 = fig.add_subplot(1, 2, 2)\n",
        "    # ax2.imshow(np.reshape(val_output, (28,28)), cmap='gray')\n",
        "\n",
        "    if epoch%10 == 0:\n",
        "        torch.save({\n",
        "            'epoch': epoch,\n",
        "            'model_state_dict': reducedcontrastmodel.state_dict(),\n",
        "            'optimizer_state_dict': optimizer.state_dict(),\n",
        "            'loss': 100\n",
        "            }, '/content/drive/MyDrive/MNIST/Models/reducedcontrastvectorizedmodifiedadam.pt')"
      ],
      "execution_count": null,
      "outputs": [
        {
          "output_type": "stream",
          "text": [
            "\n",
            "\n",
            "\n",
            "  0%|          | 0/100 [00:00<?, ?it/s]\u001b[A\u001b[A\u001b[A"
          ],
          "name": "stderr"
        },
        {
          "output_type": "stream",
          "text": [
            "300 Loss:  2186722.0258789062\n",
            "-----------------------------------\n",
            "600 Loss:  4372692.1005859375\n",
            "-----------------------------------\n",
            "900 Loss:  6520376.0830078125\n",
            "-----------------------------------\n",
            "Epoch Loss:  113.07944658203125\n"
          ],
          "name": "stdout"
        },
        {
          "output_type": "stream",
          "text": [
            "\n",
            "\n",
            "\n",
            "  1%|          | 1/100 [00:15<24:56, 15.12s/it]\u001b[A\u001b[A\u001b[A"
          ],
          "name": "stderr"
        },
        {
          "output_type": "stream",
          "text": [
            "300 Loss:  2186722.0258789062\n",
            "-----------------------------------\n",
            "600 Loss:  4372692.1005859375\n",
            "-----------------------------------\n",
            "900 Loss:  6520376.0830078125\n",
            "-----------------------------------\n"
          ],
          "name": "stdout"
        },
        {
          "output_type": "stream",
          "text": [
            "\n",
            "\n",
            "\n",
            "  2%|▏         | 2/100 [00:28<24:04, 14.74s/it]\u001b[A\u001b[A\u001b[A"
          ],
          "name": "stderr"
        },
        {
          "output_type": "stream",
          "text": [
            "Epoch Loss:  113.07944658203125\n",
            "300 Loss:  2186722.0258789062\n",
            "-----------------------------------\n",
            "600 Loss:  4372692.1005859375\n",
            "-----------------------------------\n",
            "900 Loss:  6520376.0830078125\n",
            "-----------------------------------\n"
          ],
          "name": "stdout"
        },
        {
          "output_type": "stream",
          "text": [
            "\n",
            "\n",
            "\n",
            "  3%|▎         | 3/100 [00:42<23:24, 14.48s/it]\u001b[A\u001b[A\u001b[A"
          ],
          "name": "stderr"
        },
        {
          "output_type": "stream",
          "text": [
            "Epoch Loss:  113.07944658203125\n",
            "300 Loss:  2186722.0258789062\n",
            "-----------------------------------\n",
            "600 Loss:  4372692.1005859375\n",
            "-----------------------------------\n",
            "900 Loss:  6520376.0830078125\n",
            "-----------------------------------\n"
          ],
          "name": "stdout"
        },
        {
          "output_type": "stream",
          "text": [
            "\n",
            "\n",
            "\n",
            "  4%|▍         | 4/100 [00:56<22:47, 14.24s/it]\u001b[A\u001b[A\u001b[A"
          ],
          "name": "stderr"
        },
        {
          "output_type": "stream",
          "text": [
            "Epoch Loss:  113.07944658203125\n",
            "300 Loss:  2186722.0258789062\n",
            "-----------------------------------\n",
            "600 Loss:  4372692.1005859375\n",
            "-----------------------------------\n",
            "900 Loss:  6520376.0830078125\n",
            "-----------------------------------\n"
          ],
          "name": "stdout"
        },
        {
          "output_type": "stream",
          "text": [
            "\n",
            "\n",
            "\n",
            "  5%|▌         | 5/100 [01:10<22:18, 14.09s/it]\u001b[A\u001b[A\u001b[A"
          ],
          "name": "stderr"
        },
        {
          "output_type": "stream",
          "text": [
            "Epoch Loss:  113.07944658203125\n",
            "300 Loss:  2186722.0258789062\n",
            "-----------------------------------\n",
            "600 Loss:  4372692.1005859375\n",
            "-----------------------------------\n",
            "900 Loss:  6520376.0830078125\n",
            "-----------------------------------\n"
          ],
          "name": "stdout"
        },
        {
          "output_type": "stream",
          "text": [
            "\n",
            "\n",
            "\n",
            "  6%|▌         | 6/100 [01:24<21:54, 13.98s/it]\u001b[A\u001b[A\u001b[A"
          ],
          "name": "stderr"
        },
        {
          "output_type": "stream",
          "text": [
            "Epoch Loss:  113.07944658203125\n",
            "300 Loss:  2186722.0258789062\n",
            "-----------------------------------\n"
          ],
          "name": "stdout"
        },
        {
          "output_type": "error",
          "ename": "KeyboardInterrupt",
          "evalue": "ignored",
          "traceback": [
            "\u001b[0;31m---------------------------------------------------------------------------\u001b[0m",
            "\u001b[0;31mKeyboardInterrupt\u001b[0m                         Traceback (most recent call last)",
            "\u001b[0;32m<ipython-input-44-876f32a3eee5>\u001b[0m in \u001b[0;36m<module>\u001b[0;34m()\u001b[0m\n\u001b[1;32m     14\u001b[0m         \u001b[0mmodel_output\u001b[0m \u001b[0;34m=\u001b[0m \u001b[0mreducedcontrastmodel\u001b[0m\u001b[0;34m(\u001b[0m\u001b[0minputs\u001b[0m\u001b[0;34m)\u001b[0m\u001b[0;34m\u001b[0m\u001b[0;34m\u001b[0m\u001b[0m\n\u001b[1;32m     15\u001b[0m         \u001b[0mloss\u001b[0m \u001b[0;34m=\u001b[0m \u001b[0mcriterion\u001b[0m\u001b[0;34m(\u001b[0m\u001b[0mmodel_output\u001b[0m\u001b[0;34m,\u001b[0m \u001b[0mgroundtruth\u001b[0m\u001b[0;34m)\u001b[0m\u001b[0;34m\u001b[0m\u001b[0;34m\u001b[0m\u001b[0m\n\u001b[0;32m---> 16\u001b[0;31m         \u001b[0mloss\u001b[0m\u001b[0;34m.\u001b[0m\u001b[0mbackward\u001b[0m\u001b[0;34m(\u001b[0m\u001b[0;34m)\u001b[0m\u001b[0;34m\u001b[0m\u001b[0;34m\u001b[0m\u001b[0m\n\u001b[0m\u001b[1;32m     17\u001b[0m         \u001b[0moptimizer\u001b[0m\u001b[0;34m.\u001b[0m\u001b[0mstep\u001b[0m\u001b[0;34m(\u001b[0m\u001b[0;34m)\u001b[0m\u001b[0;34m\u001b[0m\u001b[0;34m\u001b[0m\u001b[0m\n\u001b[1;32m     18\u001b[0m         \u001b[0mcumulative_loss\u001b[0m \u001b[0;34m+=\u001b[0m \u001b[0mloss\u001b[0m\u001b[0;34m.\u001b[0m\u001b[0mitem\u001b[0m\u001b[0;34m(\u001b[0m\u001b[0;34m)\u001b[0m\u001b[0;34m\u001b[0m\u001b[0;34m\u001b[0m\u001b[0m\n",
            "\u001b[0;32m/usr/local/lib/python3.7/dist-packages/torch/tensor.py\u001b[0m in \u001b[0;36mbackward\u001b[0;34m(self, gradient, retain_graph, create_graph, inputs)\u001b[0m\n\u001b[1;32m    243\u001b[0m                 \u001b[0mcreate_graph\u001b[0m\u001b[0;34m=\u001b[0m\u001b[0mcreate_graph\u001b[0m\u001b[0;34m,\u001b[0m\u001b[0;34m\u001b[0m\u001b[0;34m\u001b[0m\u001b[0m\n\u001b[1;32m    244\u001b[0m                 inputs=inputs)\n\u001b[0;32m--> 245\u001b[0;31m         \u001b[0mtorch\u001b[0m\u001b[0;34m.\u001b[0m\u001b[0mautograd\u001b[0m\u001b[0;34m.\u001b[0m\u001b[0mbackward\u001b[0m\u001b[0;34m(\u001b[0m\u001b[0mself\u001b[0m\u001b[0;34m,\u001b[0m \u001b[0mgradient\u001b[0m\u001b[0;34m,\u001b[0m \u001b[0mretain_graph\u001b[0m\u001b[0;34m,\u001b[0m \u001b[0mcreate_graph\u001b[0m\u001b[0;34m,\u001b[0m \u001b[0minputs\u001b[0m\u001b[0;34m=\u001b[0m\u001b[0minputs\u001b[0m\u001b[0;34m)\u001b[0m\u001b[0;34m\u001b[0m\u001b[0;34m\u001b[0m\u001b[0m\n\u001b[0m\u001b[1;32m    246\u001b[0m \u001b[0;34m\u001b[0m\u001b[0m\n\u001b[1;32m    247\u001b[0m     \u001b[0;32mdef\u001b[0m \u001b[0mregister_hook\u001b[0m\u001b[0;34m(\u001b[0m\u001b[0mself\u001b[0m\u001b[0;34m,\u001b[0m \u001b[0mhook\u001b[0m\u001b[0;34m)\u001b[0m\u001b[0;34m:\u001b[0m\u001b[0;34m\u001b[0m\u001b[0;34m\u001b[0m\u001b[0m\n",
            "\u001b[0;32m/usr/local/lib/python3.7/dist-packages/torch/autograd/__init__.py\u001b[0m in \u001b[0;36mbackward\u001b[0;34m(tensors, grad_tensors, retain_graph, create_graph, grad_variables, inputs)\u001b[0m\n\u001b[1;32m    145\u001b[0m     Variable._execution_engine.run_backward(\n\u001b[1;32m    146\u001b[0m         \u001b[0mtensors\u001b[0m\u001b[0;34m,\u001b[0m \u001b[0mgrad_tensors_\u001b[0m\u001b[0;34m,\u001b[0m \u001b[0mretain_graph\u001b[0m\u001b[0;34m,\u001b[0m \u001b[0mcreate_graph\u001b[0m\u001b[0;34m,\u001b[0m \u001b[0minputs\u001b[0m\u001b[0;34m,\u001b[0m\u001b[0;34m\u001b[0m\u001b[0;34m\u001b[0m\u001b[0m\n\u001b[0;32m--> 147\u001b[0;31m         allow_unreachable=True, accumulate_grad=True)  # allow_unreachable flag\n\u001b[0m\u001b[1;32m    148\u001b[0m \u001b[0;34m\u001b[0m\u001b[0m\n\u001b[1;32m    149\u001b[0m \u001b[0;34m\u001b[0m\u001b[0m\n",
            "\u001b[0;31mKeyboardInterrupt\u001b[0m: "
          ]
        }
      ]
    },
    {
      "cell_type": "code",
      "metadata": {
        "id": "cOBv7TU3jaTR"
      },
      "source": [
        "savepath = \"/content/drive/MyDrive/MNIST/Models/awgnmodelval\" + str(10) + \".jpg\"\n",
        "\n",
        "fig.savefig(savepath, dpi=40, bbox_inches='tight')"
      ],
      "execution_count": null,
      "outputs": []
    },
    {
      "cell_type": "markdown",
      "metadata": {
        "id": "UtyOaD4FKcWP"
      },
      "source": [
        "##Validation"
      ]
    },
    {
      "cell_type": "markdown",
      "metadata": {
        "id": "cGX--Wa5Kh23"
      },
      "source": [
        "###Vectorized Models"
      ]
    },
    {
      "cell_type": "code",
      "metadata": {
        "colab": {
          "base_uri": "https://localhost:8080/",
          "height": 229
        },
        "id": "h2Nhtf_BK3uh",
        "outputId": "755cd282-f4ae-4f79-861d-7df7b59b189c"
      },
      "source": [
        "awgnpath = \"/content/drive/MyDrive/MNIST/Clean/awgn_test_vectorized.npy\"\n",
        "mbpath = \"/content/drive/MyDrive/MNIST/Clean/motion_blur_test_vectorized.npy\"\n",
        "rcpath = \"/content/drive/MyDrive/MNIST/Clean/reduced_contrast_test_vectorized.npy\"\n",
        "gtpath = \"/content/drive/MyDrive/MNIST/Clean/t10k-images_vectorized.idx3-ubyte\"\n",
        "\n",
        "awgnmodelpath = \"/content/drive/MyDrive/MNIST/Models/awgnvectorizedmodified.pt\"\n",
        "mbmodelpath = \"/content/drive/MyDrive/MNIST/Models/motionblurvectorizedmodified.pt\"\n",
        "rcmodelpath = \"/content/drive/MyDrive/MNIST/Models/reducedcontrastvectorizedmodified.pt\"\n",
        "\n",
        "\n",
        "awgntest = torch.from_numpy(np.load(awgnpath).astype(np.float32))\n",
        "mbtest = torch.from_numpy(np.load(mbpath).astype(np.float32))\n",
        "rctest = torch.from_numpy(np.load(rcpath).astype(np.float32))\n",
        "gt = torch.from_numpy(idx2numpy.convert_from_file(gtpath).astype(np.float32))\n",
        "\n",
        "awgnmodel = VectorizedDenoisingAutoencoderModified()\n",
        "# optimizer = torch.optim.Adam(awgnmodel.parameters(), lr=0.005, betas=(0.9, 0.999), eps=1e-08, weight_decay=0, amsgrad=False)\n",
        "# optimizer = torch.optim.Adam(awgnmodel.parameters(), lr=0.005, betas=(0.9, 0.999), eps=1e-08, weight_decay=0, amsgrad=False)\n",
        "# optimizer = torch.optim.Adam(awgnmodel.parameters(), lr=0.005, betas=(0.9, 0.999), eps=1e-08, weight_decay=0, amsgrad=False)\n",
        "checkpoint = torch.load(awgnmodelpath)\n",
        "awgnmodel.load_state_dict(checkpoint['model_state_dict'])\n",
        "# optimizer.load_state_dict(checkpoint['optimizer_state_dict'])\n",
        "# epoch = checkpoint['epoch']\n",
        "# loss = checkpoint['loss']\n",
        "awgnmodel.eval()\n",
        "\n",
        "mbmodel = VectorizedDenoisingAutoencoderModified()\n",
        "checkpoint = torch.load(mbmodelpath)\n",
        "mbmodel.load_state_dict(checkpoint['model_state_dict'])\n",
        "mbmodel.eval()\n",
        "\n",
        "rcmodel = VectorizedDenoisingAutoencoderModified()\n",
        "checkpoint = torch.load(rcmodelpath)\n",
        "rcmodel.load_state_dict(checkpoint['model_state_dict'])\n",
        "rcmodel.eval()\n",
        "\n",
        "awgnoutput = awgnmodel(awgntest)\n",
        "mboutput = mbmodel(mbtest)\n",
        "rcoutput = rcmodel(rctest)\n",
        "\n",
        "awgncriterion = nn.MSELoss()\n",
        "mbcriterion = nn.MSELoss()\n",
        "rccriterion = nn.MSELoss()\n",
        "\n",
        "awgnloss = awgncriterion(awgnoutput, gt)\n",
        "mbloss = mbcriterion(mboutput, gt)\n",
        "rcloss = rccriterion(rcoutput, gt)\n",
        "\n",
        "awgnoutput = awgnoutput.detach().numpy()\n",
        "mboutput = mboutput.detach().numpy()\n",
        "rcoutput = rcoutput.detach().numpy()\n",
        "\n",
        "print(\"AWGN Testing Loss: \", awgnloss.item()/64)\n",
        "print(\"Total Motion Blur Testing Loss: \", mbloss.item()/64)\n",
        "print(\"Total Reduced Contrast Testing Loss: \", rcloss.item()/64)"
      ],
      "execution_count": null,
      "outputs": [
        {
          "output_type": "error",
          "ename": "NameError",
          "evalue": "ignored",
          "traceback": [
            "\u001b[0;31m---------------------------------------------------------------------------\u001b[0m",
            "\u001b[0;31mNameError\u001b[0m                                 Traceback (most recent call last)",
            "\u001b[0;32m<ipython-input-1-a968211eec8d>\u001b[0m in \u001b[0;36m<module>\u001b[0;34m()\u001b[0m\n\u001b[1;32m      9\u001b[0m \u001b[0;34m\u001b[0m\u001b[0m\n\u001b[1;32m     10\u001b[0m \u001b[0;34m\u001b[0m\u001b[0m\n\u001b[0;32m---> 11\u001b[0;31m \u001b[0mawgntest\u001b[0m \u001b[0;34m=\u001b[0m \u001b[0mtorch\u001b[0m\u001b[0;34m.\u001b[0m\u001b[0mfrom_numpy\u001b[0m\u001b[0;34m(\u001b[0m\u001b[0mnp\u001b[0m\u001b[0;34m.\u001b[0m\u001b[0mload\u001b[0m\u001b[0;34m(\u001b[0m\u001b[0mawgnpath\u001b[0m\u001b[0;34m)\u001b[0m\u001b[0;34m.\u001b[0m\u001b[0mastype\u001b[0m\u001b[0;34m(\u001b[0m\u001b[0mnp\u001b[0m\u001b[0;34m.\u001b[0m\u001b[0mfloat32\u001b[0m\u001b[0;34m)\u001b[0m\u001b[0;34m)\u001b[0m\u001b[0;34m\u001b[0m\u001b[0;34m\u001b[0m\u001b[0m\n\u001b[0m\u001b[1;32m     12\u001b[0m \u001b[0mmbtest\u001b[0m \u001b[0;34m=\u001b[0m \u001b[0mtorch\u001b[0m\u001b[0;34m.\u001b[0m\u001b[0mfrom_numpy\u001b[0m\u001b[0;34m(\u001b[0m\u001b[0mnp\u001b[0m\u001b[0;34m.\u001b[0m\u001b[0mload\u001b[0m\u001b[0;34m(\u001b[0m\u001b[0mmbpath\u001b[0m\u001b[0;34m)\u001b[0m\u001b[0;34m.\u001b[0m\u001b[0mastype\u001b[0m\u001b[0;34m(\u001b[0m\u001b[0mnp\u001b[0m\u001b[0;34m.\u001b[0m\u001b[0mfloat32\u001b[0m\u001b[0;34m)\u001b[0m\u001b[0;34m)\u001b[0m\u001b[0;34m\u001b[0m\u001b[0;34m\u001b[0m\u001b[0m\n\u001b[1;32m     13\u001b[0m \u001b[0mrctest\u001b[0m \u001b[0;34m=\u001b[0m \u001b[0mtorch\u001b[0m\u001b[0;34m.\u001b[0m\u001b[0mfrom_numpy\u001b[0m\u001b[0;34m(\u001b[0m\u001b[0mnp\u001b[0m\u001b[0;34m.\u001b[0m\u001b[0mload\u001b[0m\u001b[0;34m(\u001b[0m\u001b[0mrcpath\u001b[0m\u001b[0;34m)\u001b[0m\u001b[0;34m.\u001b[0m\u001b[0mastype\u001b[0m\u001b[0;34m(\u001b[0m\u001b[0mnp\u001b[0m\u001b[0;34m.\u001b[0m\u001b[0mfloat32\u001b[0m\u001b[0;34m)\u001b[0m\u001b[0;34m)\u001b[0m\u001b[0;34m\u001b[0m\u001b[0;34m\u001b[0m\u001b[0m\n",
            "\u001b[0;31mNameError\u001b[0m: name 'torch' is not defined"
          ]
        }
      ]
    },
    {
      "cell_type": "markdown",
      "metadata": {
        "id": "kcMT37L9WJ5W"
      },
      "source": [
        "#Plotting"
      ]
    },
    {
      "cell_type": "code",
      "metadata": {
        "colab": {
          "base_uri": "https://localhost:8080/",
          "height": 890
        },
        "id": "4kJ_MmX4UHQk",
        "outputId": "f5b5987c-f10b-4427-8d7a-6a9ad7af9342"
      },
      "source": [
        "def plots(idx, awgntest, mbtest, rctest, groundtruth, awgnpredicted, mbpredicted, rcpredicted):\n",
        "  my_dpi = 40\n",
        "  fig = plt.figure(figsize=(28, 28), dpi=my_dpi)\n",
        "\n",
        "  ax1 = fig.add_subplot(3, 3, 1)\n",
        "  ax1.set_title(\"AWGN Image\", fontsize = 30)\n",
        "  ax1.set_xticks([])\n",
        "  ax1.set_yticks([])\n",
        "  ax1.imshow(np.reshape(awgntest[idx], (28,28)), cmap='gray')\n",
        "\n",
        "  ax2 = fig.add_subplot(3, 3, 2)\n",
        "  ax2.set_title(\"Motion Blur Image\",fontsize = 30)\n",
        "  ax2.set_xticks([])\n",
        "  ax2.set_yticks([])\n",
        "  ax2.imshow(np.reshape(mbtest[idx], (28,28)), cmap='gray')\n",
        "\n",
        "\n",
        "  ax3 = fig.add_subplot(3, 3, 3)\n",
        "  ax3.set_title(\"Reduced Contrast Image\",fontsize = 30)\n",
        "  ax3.set_xticks([])\n",
        "  ax3.set_yticks([])\n",
        "  ax3.imshow(np.reshape(rctest[idx], (28,28)), cmap='gray')\n",
        "\n",
        "  ax4 = fig.add_subplot(3, 3, 4)\n",
        "  ax4.set_title(\"Ground Truth Image\",fontsize = 30)\n",
        "  ax4.set_xticks([])\n",
        "  ax4.set_yticks([])\n",
        "  ax4.imshow(np.reshape(groundtruth[idx], (28,28)), cmap='gray')\n",
        "\n",
        "  ax5 = fig.add_subplot(3, 3, 5)\n",
        "  ax5.set_title(\"AWGN Model Prediction\",fontsize = 30)\n",
        "  ax5.set_xticks([])\n",
        "  ax5.set_yticks([])\n",
        "  ax5.imshow(np.reshape(awgnpredicted[idx], (28,28)), cmap='gray')\n",
        "\n",
        "  ax6 = fig.add_subplot(3, 3, 6)\n",
        "  ax6.set_title(\"Motion Blur Model Prediction\",fontsize = 30)\n",
        "  ax6.set_xticks([])\n",
        "  ax6.set_yticks([])\n",
        "  ax6.imshow(np.reshape(mbpredicted[idx], (28,28)), cmap='gray')\n",
        "\n",
        "  ax7 = fig.add_subplot(3, 3, 7)\n",
        "  ax7.set_title(\"Reduced Contrast Model Prediction\",fontsize = 30)\n",
        "  ax7.set_xticks([])\n",
        "  ax7.set_yticks([])\n",
        "  ax7.imshow(np.reshape(rcpredicted[idx], (28,28)), cmap='gray')\n",
        "\n",
        "\n",
        "\n",
        "  savepath = \"/content/drive/MyDrive/MNIST/Models/modifiedimagesplot\" + str(idx) + \".jpg\"\n",
        "\n",
        "  fig.savefig(savepath, dpi=40, bbox_inches='tight')\n",
        "\n",
        "idx = 101\n",
        "plots(idx, awgntest, mbtest, rctest, gt, awgnoutput, mboutput, rcoutput)"
      ],
      "execution_count": null,
      "outputs": [
        {
          "output_type": "display_data",
          "data": {
            "image/png": "[encoded data removed]",
            "text/plain": [
              "<Figure size 1120x1120 with 7 Axes>"
            ]
          },
          "metadata": {
            "tags": []
          }
        }
      ]
    },
    {
      "cell_type": "markdown",
      "metadata": {
        "id": "bPWA9TQHh9FC"
      },
      "source": [
        "#Image Model"
      ]
    },
    {
      "cell_type": "code",
      "metadata": {
        "id": "QKtiIkxcbYhb"
      },
      "source": [
        "class ConvAutoencoder(nn.Module):\n",
        "    def __init__(self):\n",
        "        super(ConvAutoencoder, self).__init__()\n",
        "       \n",
        "        self.conv1 = nn.Conv2d(1, 16, 2, stride=2, padding=2)  #28-16\n",
        "        # self.conv2 = nn.Conv2d(16, 32, 7)\n",
        "        self.conv2 = nn.Conv2d(16, 64, 3, padding = 1)\n",
        "        self.conv3 = nn.Conv2d(64, 256, 3, padding = 1)\n",
        "        self.pool = nn.MaxPool2d(2, 2)\n",
        "       \n",
        "        #Decoder\n",
        "        self.t_conv1 = nn.ConvTranspose2d(256, 64, 2, stride=2)   #4-8\n",
        "        self.t_conv2 = nn.ConvTranspose2d(64, 16, 2, stride=2)  #8-16\n",
        "        self.t_conv3 = nn.ConvTranspose2d(16, 1, 2, stride=2, padding=2) #16-28\n",
        "        # self.t_conv4 = nn.ConvTranspose2d(16, 1, 7)  \n",
        "\n",
        "\n",
        "    def forward(self, x):\n",
        "        x = F.relu(self.conv1(x))\n",
        "        # print(x.shape)\n",
        "        x = F.relu(self.conv2(x))\n",
        "        # print(x.shape)\n",
        "        x = self.pool(x)\n",
        "        # print(x.shape)\n",
        "        x = F.relu(self.conv3(x))\n",
        "        # print(x.shape)\n",
        "        x = self.pool(x)\n",
        "        # print(x.shape)\n",
        "        # print()\n",
        "        # x = F.relu(self.conv4(x))\n",
        "        # x = self.pool(x)\n",
        "        x = F.relu(self.t_conv1(x))\n",
        "        # print(x.shape)\n",
        "        x = F.relu(self.t_conv2(x))\n",
        "        # print(x.shape)\n",
        "        x = F.relu(self.t_conv3(x))\n",
        "        # print(x.shape)\n",
        "        # x = F.relu(self.t_conv4(x))\n",
        "              \n",
        "        return x"
      ],
      "execution_count": null,
      "outputs": []
    },
    {
      "cell_type": "code",
      "metadata": {
        "colab": {
          "base_uri": "https://localhost:8080/"
        },
        "id": "m4XFOioQonfP",
        "outputId": "242a0ebf-c965-4efe-f188-311cc4e88bb3"
      },
      "source": [
        "conv = ConvAutoencoder()\n",
        "a = torch.rand(1,1,28,28)\n",
        "output = conv(a)\n",
        "print(\"output\", output.shape)"
      ],
      "execution_count": null,
      "outputs": [
        {
          "output_type": "stream",
          "text": [
            "output torch.Size([1, 1, 28, 28])\n"
          ],
          "name": "stdout"
        }
      ]
    },
    {
      "cell_type": "code",
      "metadata": {
        "id": "CTUXKCH2m9MZ"
      },
      "source": [
        "# awgnmodel = ConvAutoencoder()\n",
        "motionblurmodel = ConvAutoencoder()\n",
        "# reducedcontrastmodel = ConvAutoencoder()"
      ],
      "execution_count": null,
      "outputs": []
    },
    {
      "cell_type": "code",
      "metadata": {
        "id": "9bDeTTV_mKHL"
      },
      "source": [
        "criterion = nn.MSELoss()\n",
        "optimizer = torch.optim.Adam(motionblurmodel.parameters(), lr=0.005, betas=(0.9, 0.999), eps=1e-08, weight_decay=0, amsgrad=False)\n",
        "\n",
        "num_epochs = 20\n",
        "dropout = 0.3"
      ],
      "execution_count": null,
      "outputs": []
    },
    {
      "cell_type": "code",
      "metadata": {
        "id": "81b5sz3Cweyh"
      },
      "source": [
        "awgnpath = \"/content/drive/MyDrive/MNIST/Clean/awgn_train.npy\"\n",
        "motionblurpath = \"/content/drive/MyDrive/MNIST/Clean/motion_blur_train.npy\"\n",
        "reducedcontrastpath = \"/content/drive/MyDrive/MNIST/Clean/reduced_contrast.npy\"\n",
        "groundtruthpath = \"/content/drive/MyDrive/MNIST/Clean/train-images.idx3-ubyte\""
      ],
      "execution_count": null,
      "outputs": []
    },
    {
      "cell_type": "code",
      "metadata": {
        "id": "UgtV7vggmR5h"
      },
      "source": [
        "noiseinputpath = motionblurpath"
      ],
      "execution_count": null,
      "outputs": []
    },
    {
      "cell_type": "code",
      "metadata": {
        "colab": {
          "base_uri": "https://localhost:8080/"
        },
        "id": "J4KeM39WmZh3",
        "outputId": "79f5aaa8-00e2-43da-b301-73a8cf2c3dbf"
      },
      "source": [
        "groundtruthimages = idx2numpy.convert_from_file(groundtruthpath)\n",
        "noiseinputimages = np.load(noiseinputpath)\n",
        "print(groundtruthimages.shape, noiseinputimages.shape)"
      ],
      "execution_count": null,
      "outputs": [
        {
          "output_type": "stream",
          "text": [
            "(60000, 28, 28) (60000, 28, 28)\n"
          ],
          "name": "stdout"
        }
      ]
    },
    {
      "cell_type": "code",
      "metadata": {
        "id": "5SvzpV0pmhKK"
      },
      "source": [
        "batch_size = 64 #main control of batch size is here"
      ],
      "execution_count": null,
      "outputs": []
    },
    {
      "cell_type": "markdown",
      "metadata": {
        "id": "yo2BvtjLmhxz"
      },
      "source": [
        "##Training"
      ]
    },
    {
      "cell_type": "code",
      "metadata": {
        "colab": {
          "base_uri": "https://localhost:8080/",
          "height": 1000
        },
        "id": "A-Hst8ZYmixw",
        "outputId": "6a2cef84-1d67-48e8-9e9a-0a747895fb70"
      },
      "source": [
        "#training loop\n",
        "motionblurmodel.train()\n",
        "\n",
        "for epoch in tqdm(range(num_epochs)):\n",
        "    cumulative_loss = 0.0\n",
        "    epoch_loss = 0.0    \n",
        "    batchstart = 0\n",
        "    batchend = batchstart + batch_size\n",
        "    numbatches = 0\n",
        "    for b in range(int(60000/batch_size)+1):              #60000/64 = 938\n",
        "        groundtruth = torch.from_numpy(groundtruthimages[batchstart:batchend, :, :].astype(np.float32)).unsqueeze(1)  #(32,28, 28)\n",
        "        inputs = torch.from_numpy(noiseinputimages[batchstart:batchend, :, :].astype(np.float32)).unsqueeze(1)\n",
        "\n",
        "        model_output = motionblurmodel(inputs)\n",
        "        loss = criterion(model_output, groundtruth)\n",
        "        loss.backward()\n",
        "        optimizer.step()\n",
        "        cumulative_loss += loss.item()\n",
        "        if numbatches%100 == 0 :     \n",
        "            print (numbatches, end=' ')\n",
        "            print('Loss: ' , cumulative_loss)\n",
        "            print('-----------------------------------')\n",
        "            with open('/content/drive/MyDrive/MNIST/Models/motionblurimages', 'at') as file :       \n",
        "                now = datetime.datetime.now()\n",
        "                current_time = now.strftime(\"%H:%M:%S\")\n",
        "                file.write(\"Epoch: {}, Batch: {}, Loss: {}, Time: {}\\n\".format(epoch, loss.item(), cumulative_loss, current_time))    \n",
        "        numbatches += 1\n",
        "        batchstart = batchend\n",
        "        batchend = batchstart + batch_size\n",
        "        # gc.collect()\n",
        "    \n",
        "    if epoch%1 == 0:\n",
        "        torch.save({\n",
        "            'epoch': epoch,\n",
        "            'model_state_dict': motionblurmodel.state_dict(),\n",
        "            'optimizer_state_dict': optimizer.state_dict(),\n",
        "            'loss': 100\n",
        "            }, '/content/drive/MyDrive/MNIST/Models/motionblurimages.pt')"
      ],
      "execution_count": null,
      "outputs": [
        {
          "output_type": "stream",
          "text": [
            "\r  0%|          | 0/20 [00:00<?, ?it/s]"
          ],
          "name": "stderr"
        },
        {
          "output_type": "stream",
          "text": [
            "0 Loss:  6965.65576171875\n",
            "-----------------------------------\n",
            "100 Loss:  741242.708984375\n",
            "-----------------------------------\n",
            "200 Loss:  1467348.2373046875\n",
            "-----------------------------------\n",
            "300 Loss:  2181094.501953125\n",
            "-----------------------------------\n",
            "400 Loss:  2916817.5805664062\n",
            "-----------------------------------\n",
            "500 Loss:  3602297.6547851562\n",
            "-----------------------------------\n",
            "600 Loss:  4317302.57421875\n",
            "-----------------------------------\n",
            "700 Loss:  5012884.3994140625\n",
            "-----------------------------------\n",
            "800 Loss:  5713210.867675781\n",
            "-----------------------------------\n",
            "900 Loss:  6405595.951660156\n",
            "-----------------------------------\n"
          ],
          "name": "stdout"
        },
        {
          "output_type": "stream",
          "text": [
            "\r  5%|▌         | 1/20 [01:38<31:05, 98.19s/it]"
          ],
          "name": "stderr"
        },
        {
          "output_type": "stream",
          "text": [
            "0 Loss:  6784.0380859375\n",
            "-----------------------------------\n",
            "100 Loss:  719710.0009765625\n",
            "-----------------------------------\n",
            "200 Loss:  1426388.0146484375\n",
            "-----------------------------------\n",
            "300 Loss:  2118312.509765625\n",
            "-----------------------------------\n",
            "400 Loss:  2844602.0776367188\n",
            "-----------------------------------\n",
            "500 Loss:  3527796.35546875\n",
            "-----------------------------------\n",
            "600 Loss:  4236084.115722656\n",
            "-----------------------------------\n",
            "700 Loss:  4929082.58203125\n",
            "-----------------------------------\n",
            "800 Loss:  5627358.8076171875\n",
            "-----------------------------------\n",
            "900 Loss:  6317331.392578125\n",
            "-----------------------------------\n"
          ],
          "name": "stdout"
        },
        {
          "output_type": "stream",
          "text": [
            "\r 10%|█         | 2/20 [03:16<29:27, 98.21s/it]"
          ],
          "name": "stderr"
        },
        {
          "output_type": "stream",
          "text": [
            "0 Loss:  6779.30029296875\n",
            "-----------------------------------\n",
            "100 Loss:  720322.3813476562\n",
            "-----------------------------------\n",
            "200 Loss:  1426955.2001953125\n",
            "-----------------------------------\n",
            "300 Loss:  2119108.8256835938\n",
            "-----------------------------------\n",
            "400 Loss:  2846040.9345703125\n",
            "-----------------------------------\n",
            "500 Loss:  3529748.0302734375\n",
            "-----------------------------------\n",
            "600 Loss:  4237668.589355469\n",
            "-----------------------------------\n",
            "700 Loss:  4931059.034667969\n",
            "-----------------------------------\n",
            "800 Loss:  5630630.357910156\n",
            "-----------------------------------\n",
            "900 Loss:  6320950.158203125\n",
            "-----------------------------------\n"
          ],
          "name": "stdout"
        },
        {
          "output_type": "stream",
          "text": [
            "\r 15%|█▌        | 3/20 [04:54<27:48, 98.13s/it]"
          ],
          "name": "stderr"
        },
        {
          "output_type": "stream",
          "text": [
            "0 Loss:  6774.27978515625\n",
            "-----------------------------------\n",
            "100 Loss:  719482.5458984375\n",
            "-----------------------------------\n",
            "200 Loss:  1426846.767578125\n",
            "-----------------------------------\n",
            "300 Loss:  2120233.2954101562\n",
            "-----------------------------------\n",
            "400 Loss:  2846580.455078125\n",
            "-----------------------------------\n",
            "500 Loss:  3529436.0180664062\n",
            "-----------------------------------\n",
            "600 Loss:  4238224.235839844\n",
            "-----------------------------------\n",
            "700 Loss:  4932300.986328125\n",
            "-----------------------------------\n",
            "800 Loss:  5631930.26171875\n",
            "-----------------------------------\n",
            "900 Loss:  6322257.02734375\n",
            "-----------------------------------\n"
          ],
          "name": "stdout"
        },
        {
          "output_type": "stream",
          "text": [
            "\r 20%|██        | 4/20 [06:31<26:07, 97.98s/it]"
          ],
          "name": "stderr"
        },
        {
          "output_type": "stream",
          "text": [
            "0 Loss:  6775.24951171875\n",
            "-----------------------------------\n",
            "100 Loss:  719541.4301757812\n",
            "-----------------------------------\n",
            "200 Loss:  1426227.3383789062\n",
            "-----------------------------------\n",
            "300 Loss:  2119280.0048828125\n",
            "-----------------------------------\n",
            "400 Loss:  2846194.3159179688\n",
            "-----------------------------------\n"
          ],
          "name": "stdout"
        },
        {
          "output_type": "error",
          "ename": "KeyboardInterrupt",
          "evalue": "ignored",
          "traceback": [
            "\u001b[0;31m---------------------------------------------------------------------------\u001b[0m",
            "\u001b[0;31mKeyboardInterrupt\u001b[0m                         Traceback (most recent call last)",
            "\u001b[0;32m<ipython-input-16-147da7c28438>\u001b[0m in \u001b[0;36m<module>\u001b[0;34m()\u001b[0m\n\u001b[1;32m     12\u001b[0m         \u001b[0minputs\u001b[0m \u001b[0;34m=\u001b[0m \u001b[0mtorch\u001b[0m\u001b[0;34m.\u001b[0m\u001b[0mfrom_numpy\u001b[0m\u001b[0;34m(\u001b[0m\u001b[0mnoiseinputimages\u001b[0m\u001b[0;34m[\u001b[0m\u001b[0mbatchstart\u001b[0m\u001b[0;34m:\u001b[0m\u001b[0mbatchend\u001b[0m\u001b[0;34m,\u001b[0m \u001b[0;34m:\u001b[0m\u001b[0;34m,\u001b[0m \u001b[0;34m:\u001b[0m\u001b[0;34m]\u001b[0m\u001b[0;34m.\u001b[0m\u001b[0mastype\u001b[0m\u001b[0;34m(\u001b[0m\u001b[0mnp\u001b[0m\u001b[0;34m.\u001b[0m\u001b[0mfloat32\u001b[0m\u001b[0;34m)\u001b[0m\u001b[0;34m)\u001b[0m\u001b[0;34m.\u001b[0m\u001b[0munsqueeze\u001b[0m\u001b[0;34m(\u001b[0m\u001b[0;36m1\u001b[0m\u001b[0;34m)\u001b[0m\u001b[0;34m\u001b[0m\u001b[0;34m\u001b[0m\u001b[0m\n\u001b[1;32m     13\u001b[0m \u001b[0;34m\u001b[0m\u001b[0m\n\u001b[0;32m---> 14\u001b[0;31m         \u001b[0mmodel_output\u001b[0m \u001b[0;34m=\u001b[0m \u001b[0mmotionblurmodel\u001b[0m\u001b[0;34m(\u001b[0m\u001b[0minputs\u001b[0m\u001b[0;34m)\u001b[0m\u001b[0;34m\u001b[0m\u001b[0;34m\u001b[0m\u001b[0m\n\u001b[0m\u001b[1;32m     15\u001b[0m         \u001b[0mloss\u001b[0m \u001b[0;34m=\u001b[0m \u001b[0mcriterion\u001b[0m\u001b[0;34m(\u001b[0m\u001b[0mmodel_output\u001b[0m\u001b[0;34m,\u001b[0m \u001b[0mgroundtruth\u001b[0m\u001b[0;34m)\u001b[0m\u001b[0;34m\u001b[0m\u001b[0;34m\u001b[0m\u001b[0m\n\u001b[1;32m     16\u001b[0m         \u001b[0mloss\u001b[0m\u001b[0;34m.\u001b[0m\u001b[0mbackward\u001b[0m\u001b[0;34m(\u001b[0m\u001b[0;34m)\u001b[0m\u001b[0;34m\u001b[0m\u001b[0;34m\u001b[0m\u001b[0m\n",
            "\u001b[0;32m/usr/local/lib/python3.7/dist-packages/torch/nn/modules/module.py\u001b[0m in \u001b[0;36m_call_impl\u001b[0;34m(self, *input, **kwargs)\u001b[0m\n\u001b[1;32m    887\u001b[0m             \u001b[0mresult\u001b[0m \u001b[0;34m=\u001b[0m \u001b[0mself\u001b[0m\u001b[0;34m.\u001b[0m\u001b[0m_slow_forward\u001b[0m\u001b[0;34m(\u001b[0m\u001b[0;34m*\u001b[0m\u001b[0minput\u001b[0m\u001b[0;34m,\u001b[0m \u001b[0;34m**\u001b[0m\u001b[0mkwargs\u001b[0m\u001b[0;34m)\u001b[0m\u001b[0;34m\u001b[0m\u001b[0;34m\u001b[0m\u001b[0m\n\u001b[1;32m    888\u001b[0m         \u001b[0;32melse\u001b[0m\u001b[0;34m:\u001b[0m\u001b[0;34m\u001b[0m\u001b[0;34m\u001b[0m\u001b[0m\n\u001b[0;32m--> 889\u001b[0;31m             \u001b[0mresult\u001b[0m \u001b[0;34m=\u001b[0m \u001b[0mself\u001b[0m\u001b[0;34m.\u001b[0m\u001b[0mforward\u001b[0m\u001b[0;34m(\u001b[0m\u001b[0;34m*\u001b[0m\u001b[0minput\u001b[0m\u001b[0;34m,\u001b[0m \u001b[0;34m**\u001b[0m\u001b[0mkwargs\u001b[0m\u001b[0;34m)\u001b[0m\u001b[0;34m\u001b[0m\u001b[0;34m\u001b[0m\u001b[0m\n\u001b[0m\u001b[1;32m    890\u001b[0m         for hook in itertools.chain(\n\u001b[1;32m    891\u001b[0m                 \u001b[0m_global_forward_hooks\u001b[0m\u001b[0;34m.\u001b[0m\u001b[0mvalues\u001b[0m\u001b[0;34m(\u001b[0m\u001b[0;34m)\u001b[0m\u001b[0;34m,\u001b[0m\u001b[0;34m\u001b[0m\u001b[0;34m\u001b[0m\u001b[0m\n",
            "\u001b[0;32m<ipython-input-8-207e4f03e1fa>\u001b[0m in \u001b[0;36mforward\u001b[0;34m(self, x)\u001b[0m\n\u001b[1;32m     30\u001b[0m         \u001b[0;31m# x = F.relu(self.conv4(x))\u001b[0m\u001b[0;34m\u001b[0m\u001b[0;34m\u001b[0m\u001b[0;34m\u001b[0m\u001b[0m\n\u001b[1;32m     31\u001b[0m         \u001b[0;31m# x = self.pool(x)\u001b[0m\u001b[0;34m\u001b[0m\u001b[0;34m\u001b[0m\u001b[0;34m\u001b[0m\u001b[0m\n\u001b[0;32m---> 32\u001b[0;31m         \u001b[0mx\u001b[0m \u001b[0;34m=\u001b[0m \u001b[0mF\u001b[0m\u001b[0;34m.\u001b[0m\u001b[0mrelu\u001b[0m\u001b[0;34m(\u001b[0m\u001b[0mself\u001b[0m\u001b[0;34m.\u001b[0m\u001b[0mt_conv1\u001b[0m\u001b[0;34m(\u001b[0m\u001b[0mx\u001b[0m\u001b[0;34m)\u001b[0m\u001b[0;34m)\u001b[0m\u001b[0;34m\u001b[0m\u001b[0;34m\u001b[0m\u001b[0m\n\u001b[0m\u001b[1;32m     33\u001b[0m         \u001b[0;31m# print(x.shape)\u001b[0m\u001b[0;34m\u001b[0m\u001b[0;34m\u001b[0m\u001b[0;34m\u001b[0m\u001b[0m\n\u001b[1;32m     34\u001b[0m         \u001b[0mx\u001b[0m \u001b[0;34m=\u001b[0m \u001b[0mF\u001b[0m\u001b[0;34m.\u001b[0m\u001b[0mrelu\u001b[0m\u001b[0;34m(\u001b[0m\u001b[0mself\u001b[0m\u001b[0;34m.\u001b[0m\u001b[0mt_conv2\u001b[0m\u001b[0;34m(\u001b[0m\u001b[0mx\u001b[0m\u001b[0;34m)\u001b[0m\u001b[0;34m)\u001b[0m\u001b[0;34m\u001b[0m\u001b[0;34m\u001b[0m\u001b[0m\n",
            "\u001b[0;32m/usr/local/lib/python3.7/dist-packages/torch/nn/modules/module.py\u001b[0m in \u001b[0;36m_call_impl\u001b[0;34m(self, *input, **kwargs)\u001b[0m\n\u001b[1;32m    887\u001b[0m             \u001b[0mresult\u001b[0m \u001b[0;34m=\u001b[0m \u001b[0mself\u001b[0m\u001b[0;34m.\u001b[0m\u001b[0m_slow_forward\u001b[0m\u001b[0;34m(\u001b[0m\u001b[0;34m*\u001b[0m\u001b[0minput\u001b[0m\u001b[0;34m,\u001b[0m \u001b[0;34m**\u001b[0m\u001b[0mkwargs\u001b[0m\u001b[0;34m)\u001b[0m\u001b[0;34m\u001b[0m\u001b[0;34m\u001b[0m\u001b[0m\n\u001b[1;32m    888\u001b[0m         \u001b[0;32melse\u001b[0m\u001b[0;34m:\u001b[0m\u001b[0;34m\u001b[0m\u001b[0;34m\u001b[0m\u001b[0m\n\u001b[0;32m--> 889\u001b[0;31m             \u001b[0mresult\u001b[0m \u001b[0;34m=\u001b[0m \u001b[0mself\u001b[0m\u001b[0;34m.\u001b[0m\u001b[0mforward\u001b[0m\u001b[0;34m(\u001b[0m\u001b[0;34m*\u001b[0m\u001b[0minput\u001b[0m\u001b[0;34m,\u001b[0m \u001b[0;34m**\u001b[0m\u001b[0mkwargs\u001b[0m\u001b[0;34m)\u001b[0m\u001b[0;34m\u001b[0m\u001b[0;34m\u001b[0m\u001b[0m\n\u001b[0m\u001b[1;32m    890\u001b[0m         for hook in itertools.chain(\n\u001b[1;32m    891\u001b[0m                 \u001b[0m_global_forward_hooks\u001b[0m\u001b[0;34m.\u001b[0m\u001b[0mvalues\u001b[0m\u001b[0;34m(\u001b[0m\u001b[0;34m)\u001b[0m\u001b[0;34m,\u001b[0m\u001b[0;34m\u001b[0m\u001b[0;34m\u001b[0m\u001b[0m\n",
            "\u001b[0;32m/usr/local/lib/python3.7/dist-packages/torch/nn/modules/conv.py\u001b[0m in \u001b[0;36mforward\u001b[0;34m(self, input, output_size)\u001b[0m\n\u001b[1;32m    840\u001b[0m         return F.conv_transpose2d(\n\u001b[1;32m    841\u001b[0m             \u001b[0minput\u001b[0m\u001b[0;34m,\u001b[0m \u001b[0mself\u001b[0m\u001b[0;34m.\u001b[0m\u001b[0mweight\u001b[0m\u001b[0;34m,\u001b[0m \u001b[0mself\u001b[0m\u001b[0;34m.\u001b[0m\u001b[0mbias\u001b[0m\u001b[0;34m,\u001b[0m \u001b[0mself\u001b[0m\u001b[0;34m.\u001b[0m\u001b[0mstride\u001b[0m\u001b[0;34m,\u001b[0m \u001b[0mself\u001b[0m\u001b[0;34m.\u001b[0m\u001b[0mpadding\u001b[0m\u001b[0;34m,\u001b[0m\u001b[0;34m\u001b[0m\u001b[0;34m\u001b[0m\u001b[0m\n\u001b[0;32m--> 842\u001b[0;31m             output_padding, self.groups, self.dilation)\n\u001b[0m\u001b[1;32m    843\u001b[0m \u001b[0;34m\u001b[0m\u001b[0m\n\u001b[1;32m    844\u001b[0m \u001b[0;34m\u001b[0m\u001b[0m\n",
            "\u001b[0;31mKeyboardInterrupt\u001b[0m: "
          ]
        }
      ]
    },
    {
      "cell_type": "code",
      "metadata": {
        "id": "VM9TX9AgoV-D"
      },
      "source": [
        ""
      ],
      "execution_count": null,
      "outputs": []
    }
  ]
}